{
 "cells": [
  {
   "cell_type": "markdown",
   "metadata": {},
   "source": [
    "# 2*.Орторомбические среды. Уравнение Кристоффеля"
   ]
  },
  {
   "cell_type": "markdown",
   "metadata": {},
   "source": [
    ":class: important\n",
    "что-то тут"
   ]
  },
  {
   "cell_type": "code",
   "execution_count": null,
   "metadata": {},
   "outputs": [],
   "source": []
  },
  {
   "cell_type": "markdown",
   "metadata": {},
   "source": [
    "тест 1\n",
    "\n",
    "```{admonition} Заголовочек, класс important \n",
    ":class: important\n",
    "\n",
    "текст сюда\n",
    "```\n"
   ]
  },
  {
   "cell_type": "markdown",
   "metadata": {},
   "source": [
    "тест 2\n",
    "\n",
    "```{admonition} Winner-take-most strategy \n",
    ":class: important\n",
    "\n",
    "Kohonen's algorithm involves the \"winner take most\" strategy, where not only the winner neuron is updated (as in the winner-take-all case), but also its neighbors. The neighbors update is strongest for the nearest neighbors, and gradually weakens with the distance from the winner, as given by the proximity function.\n",
    "```\n"
   ]
  },
  {
   "cell_type": "markdown",
   "metadata": {},
   "source": [
    "```{admonition} Загол, класс note \n",
    ":class: note\n",
    "    - dfd\n",
    "    - выаыа\n",
    "    - третий \n",
    "    \n",
    "```"
   ]
  },
  {
   "cell_type": "markdown",
   "metadata": {},
   "source": [
    "\n",
    "```{admonition} $~$ класс warning \n",
    ":class: warning\n",
    "\n",
    "    Раз.\n",
    "\n",
    "    Два.\n",
    "\n",
    "    Три.\n",
    "```\n",
    "\n"
   ]
  },
  {
   "cell_type": "code",
   "execution_count": null,
   "metadata": {},
   "outputs": [],
   "source": []
  },
  {
   "cell_type": "markdown",
   "metadata": {},
   "source": [
    "\n",
    "```{admonition} Motto класс tip \n",
    ":class: tip\n",
    "\n",
    "teachers! leave those kids alone!\n",
    "\n",
    "          (Pink Floyd, Another Brick In The Wall)\n",
    "\n",
    "```\n"
   ]
  },
  {
   "cell_type": "markdown",
   "metadata": {},
   "source": [
    "\n",
    "\n",
    "```{admonition} See also кстати :class: seealso\n",
    "\n",
    "Уилмаз\n",
    "\n",
    "```"
   ]
  },
  {
   "cell_type": "markdown",
   "metadata": {
    "tags": []
   },
   "source": [
    "## Теперь инлайн версии!"
   ]
  },
  {
   "cell_type": "markdown",
   "metadata": {},
   "source": [
    ":::{tip}\n",
    "попробуем тип!\n",
    ":::"
   ]
  },
  {
   "cell_type": "markdown",
   "metadata": {},
   "source": [
    ":::{seealso}\n",
    "инлайн версия seealso\n",
    ":::"
   ]
  },
  {
   "cell_type": "markdown",
   "metadata": {},
   "source": [
    ":::{warning}\n",
    "инлайн версия warning\n",
    ":::"
   ]
  },
  {
   "cell_type": "code",
   "execution_count": null,
   "metadata": {},
   "outputs": [],
   "source": []
  },
  {
   "cell_type": "markdown",
   "metadata": {},
   "source": [
    "$$C^{ORT} = \\begin{bmatrix} \n",
    "C_{11} & C_{12} & C_{13} & 0 & 0 & 0 \\\\ \n",
    "C_{12} & C_{22} & C_{23} & 0 & 0 & 0 \\\\ \n",
    "C_{13} & C_{23} & C_{33} & 0 & 0 & 0 \\\\ \n",
    "0 & 0 & 0 & C_{44} & 0 & 0 \\\\ \n",
    "0 & 0 & 0 & 0 & C_{55} & 0 \\\\ \n",
    "0 & 0 & 0 & 0 & 0 & C_{66} \\\\\n",
    "\\end{bmatrix} $$\n",
    "\n",
    "\n",
    "Параметры Цванкина для орторомбической среду записываются так:\n",
    "\n",
    "$$V_{P0}=\\sqrt{\\frac{C_{33}}{\\rho}}$$\n",
    "\n",
    "$$V_{S0}=\\sqrt{\\frac{C_{44}}{\\rho}}$$\n",
    "\n",
    "$$\\varepsilon^{(2)} = \\frac{C_{11}-C_{33}}{2C_{33}},\\ \\ \n",
    "\\delta^{(2)} = \\frac{(C_{13}+C_{55})^2 - (C_{33}-C_{55})^2}{2C_{33}(C_{33}-C_{55})},\\ \\ \n",
    "\\gamma^{(2)} = \\frac{C_{66}-C_{44}}{2C_{44}}$$\n",
    "\n",
    "\n",
    "$$\\varepsilon^{(1)} = \\frac{C_{22}-C_{33}}{2C_{33}},\\ \\ \n",
    "\\delta^{(1)} = \\frac{(C_{23}+C_{44})^2 - (C_{33}-C_{44})^2}{2C_{33}(C_{33}-C_{44})},\\ \\ \n",
    "\\gamma^{(1)} = \\frac{C_{66}-C_{55}}{2C_{55}}$$\n",
    "\n",
    "$$\\delta^{(3)} = \\frac{(C_{12}+C_{66})^2 - (C_{11}-C_{66})^2}{2C_{11}(C_{11}-C_{66})} $$\n",
    "\n",
    "\n",
    "Орторомбическая среда сводится к случаю VTI, если:\n",
    "\n",
    "$$ \\varepsilon^{(1)} = \\varepsilon^{(2)} = \\varepsilon $$\n",
    "\n",
    "$$ \\delta^{(1)} = \\delta^{(2)} = \\delta $$\n",
    "\n",
    "$$ \\gamma^{(1)} = \\gamma^{(2)} = \\gamma $$\n",
    "\n",
    "и к случаю HTI (с осью симметрии, ориентированной в направлении оси 1), если:\n",
    "\n",
    "$$ \\varepsilon^{(1)} = 0 $$\n",
    "\n",
    "$$ \\delta^{(1)} = 0 $$\n",
    "\n",
    "$$ \\gamma^{(1)} = 0 $$\n",
    "\n",
    "\n",
    "\n",
    "\n",
    "*Tsvankin,Seismic Signatures and Analysis of Reflection Data in Anisotropic Media, глава 1.3.2 Anisotropic parameters for orthorhombic media*"
   ]
  },
  {
   "cell_type": "code",
   "execution_count": 8,
   "metadata": {},
   "outputs": [
    {
     "name": "stdout",
     "output_type": "stream",
     "text": [
      "hhelloo\n"
     ]
    }
   ],
   "source": [
    "print('hhelloo')"
   ]
  },
  {
   "cell_type": "code",
   "execution_count": 9,
   "metadata": {},
   "outputs": [],
   "source": [
    "import numpy as np\n",
    "from numpy import sin, cos, pi, tan\n",
    "import matplotlib.pyplot as plt"
   ]
  },
  {
   "cell_type": "code",
   "execution_count": 10,
   "metadata": {},
   "outputs": [],
   "source": [
    "def cij_ort(vp0, vs0, rho, de1, ep1, ga1, de2, ep2, ga2, de3):\n",
    "    c33 = rho*vp0**2\n",
    "    c55 = rho*vs0**2\n",
    "    \n",
    "    c66 = c55*(1 + 2*ga1)\n",
    "    c44 = c66/(1 + 2*ga2)    \n",
    "    c22 = c33*(1 + 2*ep1) \n",
    "    c11 = c33*(1 + 2*ep2)    \n",
    " \n",
    "    c13 = np.sqrt(2*de2*c33*(c33-c55) + (c33-c55)**2) - c55\n",
    "\n",
    "    c23 = np.sqrt(2*de1*c33*(c33-c44) + (c33-c44)**2) - c44\n",
    "    \n",
    "    c12 = np.sqrt(2*de3*c11*(c11-c66) + (c11-c66)**2) - c66\n",
    "    \n",
    "    \n",
    "    c = np.array([[c11, c12, c13,   0,   0,   0],\n",
    "                  [c12, c22, c23,   0,   0,   0],\n",
    "                  [c13, c23, c33,   0,   0,   0],\n",
    "                  [  0,   0,   0, c44,   0,   0],\n",
    "                  [  0,   0,   0,   0, c55,   0],\n",
    "                  [  0,   0,   0,   0,   0, c66]])\n",
    "    return c"
   ]
  },
  {
   "cell_type": "code",
   "execution_count": null,
   "metadata": {},
   "outputs": [],
   "source": []
  },
  {
   "cell_type": "code",
   "execution_count": 11,
   "metadata": {},
   "outputs": [],
   "source": [
    "def L_matrix(c, rho, fi, th):\n",
    "    \"\"\"Lambda - Christoffel matrix G multiplied by V**2/rho, for monoclinic media \"\"\"\n",
    "\n",
    "    a = c/rho\n",
    "    n1 = cos(fi)*sin(th)\n",
    "    n2 = sin(fi)*sin(th)\n",
    "    n3 = cos(th)\n",
    "    n = np.array((n1,n2,n3))\n",
    "    \n",
    "#    \n",
    "#    a11=a[0,0]\n",
    "#    a12=a[0,1]\n",
    "#    a13=a[0,2]\n",
    "#    a16=a[0,5]\n",
    "#    a22=a[1,1]\n",
    "#    a23=a[1,2]\n",
    "#    a26=a[1,5]\n",
    "#    a33=a[2,2]    \n",
    "#    a36=a[2,5]\n",
    "#    a44=a[3,3]\n",
    "#    a45=a[3,4]\n",
    "#    a55=a[4,4]\n",
    "#    a66=a[5,5]\n",
    "#    \n",
    "#Первый способ расчёта матрицы - по формулам из Цванкина для ORTH    \n",
    "#    L=np.zeros((3,3))*np.nan    \n",
    "#    L11 = a11*n1**2 + a66*n2**2 + a55*n3**2 + 2*a16*n1*n2\n",
    "#    L22 = a66*n1**2 + a22*n2**2 + a44*n3**2 + 2*a26*n1*n2\n",
    "#    L33 = a55*n1**2 + a44*n2**2 + a33*n3**2 + 2*a45*n1*n2\n",
    "#    \n",
    "#    L12 = a16*n1**2 + a26*n2**2 + a45*n3**2 +(a12+a66)*n1*n2\n",
    "#    L13 = (a13 + a55)*n1*n3 + (a36 + a45)*n2*n3\n",
    "#    L23 = (a36 + a45)*n1*n3 + (a23 + a44)*n2*n2    \n",
    "      \n",
    "#    L = np.array([[L11,L12,L13],\n",
    "#                  [L12,L22,L23],\n",
    "#                  [L13,L23,L33]])\n",
    "\n",
    "\n",
    "#General matrix formulations\n",
    "    L_cycle=np.zeros((3,3))*np.nan\n",
    "    s=0\n",
    "    for i in np.arange(0,3):\n",
    "        for k in np.arange(0,3):\n",
    "            s=0\n",
    "            for j in np.arange(0,3):\n",
    "                for l in np.arange(0,3):\n",
    "                    if (k == l):\n",
    "                        p2 = k\n",
    "                    else:\n",
    "                        p2 = 6 - (k+l)\n",
    "                    if (i == j):\n",
    "                        p1 = i\n",
    "                    else:\n",
    "                        p1 = 6 - (i+j)\n",
    "                    \n",
    "                    s = s+a[p1,p2]*n[j]*n[l]\n",
    "                    \n",
    "            L_cycle[i,k] = s\n",
    "    \n",
    "\n",
    "    return L_cycle"
   ]
  },
  {
   "cell_type": "code",
   "execution_count": 12,
   "metadata": {},
   "outputs": [],
   "source": [
    "def count_v_Christoffel(G):\n",
    "    \"\"\" Tsvankin's monograph, appendix 1A, accepts Lambda matrix \"\"\"\n",
    "    \n",
    "    G11=G[0,0]\n",
    "    G22=G[1,1]\n",
    "    G33=G[2,2]\n",
    "    G12=G[0,1]\n",
    "    G13=G[0,2]\n",
    "    G23=G[1,2]\n",
    "    \n",
    "    \n",
    "    \n",
    "    a = -(G11 + G22 + G33)\n",
    "    b = G11*G22 + G11*G33 + G22*G33 - G12**2 - G13**2 - G23**2\n",
    "    c = G11*G23**2 + G22*G13**2 + G33*G12**2 - G11*G22*G33 - 2*G12*G13*G23\n",
    "    \n",
    "    d = -(a**2)/3 + b\n",
    "    \n",
    "    q = 2*(a/3)**3 - a*b/3 + c    \n",
    "#    Q = (d/3)**3 + (q/2)**2\n",
    " \n",
    "#    if (Q<=0):\n",
    "#        print 'Q <= 0, roots are real' \n",
    "#    else:\n",
    "#        print 'roots are complex'\n",
    "\n",
    "    nu = np.arccos(-q/(2*np.sqrt((-d/3)**3)))\n",
    "    \n",
    "    k=np.array((0,1,2))\n",
    "    \n",
    "    y = 2*np.sqrt(-d/3)*cos(nu/3 + k*2*pi/3)\n",
    "    \n",
    "    V = np.sqrt(y-a/3)\n",
    "    \n",
    "    return V"
   ]
  },
  {
   "cell_type": "code",
   "execution_count": null,
   "metadata": {},
   "outputs": [],
   "source": []
  },
  {
   "cell_type": "code",
   "execution_count": 13,
   "metadata": {},
   "outputs": [],
   "source": [
    "\n",
    "alpha1=2000.0\n",
    "beta1=1000.0\n",
    "rho1=2000.0\n",
    "\n",
    "\n",
    "\n",
    "de1=-0.2\n",
    "ep1=0.05\n",
    "ga1=0.22\n",
    "de2 = 0.3\n",
    "ep2 = 0.15\n",
    "ga2 = 0.04\n",
    "de3 = -0.05"
   ]
  },
  {
   "cell_type": "code",
   "execution_count": 14,
   "metadata": {},
   "outputs": [],
   "source": [
    "C1_iso_from_ort = cij_ort(alpha1, beta1, rho1, 0, 0, 0, 0, 0, 0, 0)\n",
    "C1_vti_from_ort = cij_ort(alpha1, beta1, rho1, de1, ep1, ga1, de1, ep1, ga1, 0)\n",
    "C1_hti_from_ort = cij_ort(alpha1, beta1, rho1, 0, 0, 0, de1, ep1, ga1, de1)\n",
    "C1_ort = cij_ort(alpha1, beta1, rho1, de1, ep1, ga1, de2, ep2, ga2, de3)"
   ]
  },
  {
   "cell_type": "code",
   "execution_count": null,
   "metadata": {},
   "outputs": [],
   "source": []
  },
  {
   "cell_type": "code",
   "execution_count": 15,
   "metadata": {},
   "outputs": [],
   "source": [
    "fi = np.arange(0, pi/2)\n",
    "th = np.arange(0, pi/2)"
   ]
  },
  {
   "cell_type": "code",
   "execution_count": 16,
   "metadata": {},
   "outputs": [],
   "source": [
    "# for i, az_inc in enumerate(fi):\n",
    "#     for j, ang_inc in enumerate(th):\n",
    "#         L1 = L_matrix(C1_iso_from_ort, rho1, az_inc, ang_inc)\n",
    "#         V = count_v_Christoffel(L1)\n",
    "#         vlist[i,j] = V[0]\n",
    "#         vslist[i,j] = V[1]\n",
    "#         vtlist[i,j] = V[2]\n",
    "        \n",
    "#         n1 = cos(az_inc)*sin(ang_inc)\n",
    "#         n2 = sin(az_inc)*sin(ang_inc)\n",
    "#         n3 = cos(ang_inc)        \n",
    "#         n = np.array((n1,n2,n3))\n",
    "        \n",
    "#         sp = n/V[0]\n",
    "#         ss = n/V[1]\n",
    "#         st = n/V[2]\n",
    "        "
   ]
  },
  {
   "cell_type": "code",
   "execution_count": 17,
   "metadata": {},
   "outputs": [
    {
     "name": "stdout",
     "output_type": "stream",
     "text": [
      "[0. 1.]\n"
     ]
    }
   ],
   "source": [
    "print(fi)"
   ]
  },
  {
   "cell_type": "code",
   "execution_count": 18,
   "metadata": {},
   "outputs": [
    {
     "data": {
      "image/png": "[encoded data removed]",
      "text/plain": [
       "<Figure size 432x288 with 1 Axes>"
      ]
     },
     "metadata": {
      "needs_background": "light"
     },
     "output_type": "display_data"
    }
   ],
   "source": [
    "plt.plot(fi,th)\n",
    "plt.show()"
   ]
  },
  {
   "cell_type": "code",
   "execution_count": 19,
   "metadata": {
    "tags": [
     "remove-input"
    ]
   },
   "outputs": [
    {
     "data": {
      "image/png": "[encoded data removed]",
      "text/plain": [
       "<Figure size 432x288 with 1 Axes>"
      ]
     },
     "metadata": {
      "needs_background": "light"
     },
     "output_type": "display_data"
    }
   ],
   "source": [
    "plt.plot(fi,-th, c='r')\n",
    "plt.show()"
   ]
  },
  {
   "cell_type": "code",
   "execution_count": null,
   "metadata": {},
   "outputs": [],
   "source": []
  }
 ],
 "metadata": {
  "kernelspec": {
   "display_name": "Python 3 (ipykernel)",
   "language": "python",
   "name": "python3"
  },
  "language_info": {
   "codemirror_mode": {
    "name": "ipython",
    "version": 3
   },
   "file_extension": ".py",
   "mimetype": "text/x-python",
   "name": "python",
   "nbconvert_exporter": "python",
   "pygments_lexer": "ipython3",
   "version": "3.7.11"
  }
 },
 "nbformat": 4,
 "nbformat_minor": 4
}
