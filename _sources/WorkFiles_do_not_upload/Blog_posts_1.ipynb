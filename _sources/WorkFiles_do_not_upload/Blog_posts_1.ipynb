{
 "cells": [
  {
   "cell_type": "markdown",
   "id": "0e33b647-ba69-4577-afb6-776cfb54f20f",
   "metadata": {},
   "source": [
    "# Starting post\n",
    "\n",
    "\n",
    "This is the start of **Seĭsmika** blog.\n",
    "\n",
    "Several years ago I started coding in Python and it helped me a lot with work tasks, scientific activity and teaching.\n",
    "\n",
    "Since then I created several code snippets which I found to be illustrative.\n",
    "\n",
    "I decided to deliver information in Jupyter notebooks packed into [Jupyter Book](https://jupyterbook.org/) and published in [GitHub Pages](https://pages.github.com/). At the start, it consists of only [three pages](https://antongrin.github.io/Seismika/Chapters/intro.html): \n",
    "\n",
    "- [Ricker wavelet and its spectrum](https://antongrin.github.io/Seismika/Chapters/SignalProcessing/Ricker_wavelet.html)\n",
    "- [Complex trace attributes](https://antongrin.github.io/Seismika/Chapters/SignalProcessing/Complex_trace_attr.html)\n",
    "- [Backus Averaging](https://antongrin.github.io/Seismika/Chapters/Rock_Elasticity_Anisotropy/Backus_Averaging.html)\n",
    "\n",
    "I am happy to share them. Unfortunately, preparing tidy and neat materials takes a lot of time, so this is only a humble beginning.\n",
    "Over time, I hope I will add more and more chapters and cover a broader range of topics. I chose ~~broken~~ English as the main language for *Seismika* and maybe will post something in Russian translation as well.\n",
    "\n",
    "This so-called ‘book’ does not claim to be exhaustive or complete; this is just a set of notebooks that I managed to make presentable enough.\n",
    "I hope somebody will find it useful in research, work or study.\n",
    "\n",
    "I'm going to try to keep it as simple as I can. The main goal is to explain and demonstrate physical phenomena, geophysical algorithms and models in a clear readable manner.\n",
    "\n",
    "go."
   ]
  },
  {
   "cell_type": "code",
   "execution_count": null,
   "id": "b574dd29-1a4d-4009-9c45-2cf903beb086",
   "metadata": {},
   "outputs": [],
   "source": []
  },
  {
   "cell_type": "markdown",
   "id": "0f993302-1a33-4aee-8429-31a64c9e11b2",
   "metadata": {},
   "source": [
    "# Стартовый пост\n",
    "\n",
    "Это начало блога **Seĭsmika**.\n",
    "\n",
    "Несколько лет назад я немного освоил Python и с тех пор он мне помогал по работе, в научной деятельности и в преподавании.\n",
    "\n",
    "За это время у меня набралось несколько десятков наработок, примеров расчетов и алгоритмов. И они мне кажутся довольно наглядными.\n",
    "\n",
    "Я решил, что информацию буду подавать в виде блокнотов Jupyter (notebooks), облаченных в вид книги [Jupyter Book](https://jupyterbook.org/)  и загруженных на [GitHub Pages](https://pages.github.com/).  На данный стартовый момент, тут всего [три странички](https://antongrin.github.io/Seismika/Chapters/intro.html):\n",
    "\n",
    "- [Импульс Рикера и его спектр](https://antongrin.github.io/Seismika/Chapters/SignalProcessing/Ricker_wavelet.html)\n",
    "- [Атрибуты комплексной трассы](https://antongrin.github.io/Seismika/Chapters/SignalProcessing/Complex_trace_attr.html)\n",
    "- [Осреднение Бэкуса](https://antongrin.github.io/Seismika/Chapters/Rock_Elasticity_Anisotropy/Backus_Averaging.html)\n",
    "\n",
    "Я рад ими поделиться. Увы, привести мои обрывки кода в приличный вид и все оформить оказалось непростым и небыстрым делом, так что пока вот такое скромное начало. По ходу дела, надеюсь, у меня получится добавить побольше материала и покрыть широкий диапазон тем. Думаю, все будет на ломаном английском, а перевод на русский - по возможности.\n",
    "\n",
    "Конечно, эта \"книга\" не предентует на полноту или строгость, это просто слабо структурирванный набор блокнотов, которые я смог привести в более-менее приличный вид. Надеюсь, кому-то это окажется полезным для исследований, работы или учебы.\n",
    "\n",
    "Постараюсь быть попроще. Основная задача - ясно и доступно объяснить и показать явления, модели и алгоритмы.\n",
    "\n",
    "го."
   ]
  },
  {
   "cell_type": "code",
   "execution_count": null,
   "id": "7926b496-9333-4d0d-af15-50f8ba5975f2",
   "metadata": {},
   "outputs": [],
   "source": []
  },
  {
   "cell_type": "code",
   "execution_count": null,
   "id": "69a06151-d359-4322-8823-c717f1ad69c8",
   "metadata": {},
   "outputs": [],
   "source": []
  },
  {
   "cell_type": "code",
   "execution_count": null,
   "id": "4232ee9d-1f06-47ad-ac6e-efd26b05a820",
   "metadata": {},
   "outputs": [],
   "source": []
  },
  {
   "cell_type": "markdown",
   "id": "21470489-fb40-403e-8598-1f5c5575f93e",
   "metadata": {},
   "source": [
    "# Ricker wavelet\n",
    "\n",
    "Seismic wavelet is an extremely important thing. It is related to seismic resolution, trace spectra, well ties, inversion and so on.\n",
    "\n",
    "In this chapter, we will: \n",
    "\n",
    "- create a Ricker wavelet\n",
    "- compute its amplitude and phase spectrum\n",
    "- create a zero-phase wavelet\n",
    "- create a constant-phase wavelet\n",
    "\n",
    "This chapter is closely related to Discrete Fourier Transform and its properties."
   ]
  },
  {
   "cell_type": "code",
   "execution_count": null,
   "id": "905e18d8-ace4-473a-87ee-103604b5462e",
   "metadata": {},
   "outputs": [],
   "source": []
  },
  {
   "cell_type": "markdown",
   "id": "f77d4121-064a-4ebf-94f1-dd47e9aa119e",
   "metadata": {},
   "source": [
    "# Импульс Рикера\n",
    "\n",
    "Сеймический импульс - крайне важная штука. Он связан с разрешающей способностью сейсмических данных, спектром сейсмотрасс, привязкой скважин, инверсией и т.д.\n",
    "\n",
    "Итак, в этой главе:\n",
    "\n",
    "- Создаем импульс Рикера\n",
    "- Считаем амплитудный и фазовый спектр импульса Рикера\n",
    "- Создаем нуль-фазовый импульс\n",
    "- Создаем импульс с постоянной фазой\n",
    "\n",
    "У этой главы просматривается тесная взаимосвязь с дискретным преобразованием Фурье и его свойствами.\n"
   ]
  },
  {
   "cell_type": "code",
   "execution_count": null,
   "id": "5663caf6-e198-4e37-b56d-39eb0bcb740e",
   "metadata": {},
   "outputs": [],
   "source": []
  }
 ],
 "metadata": {
  "kernelspec": {
   "display_name": "Python 3 (ipykernel)",
   "language": "python",
   "name": "python3"
  },
  "language_info": {
   "codemirror_mode": {
    "name": "ipython",
    "version": 3
   },
   "file_extension": ".py",
   "mimetype": "text/x-python",
   "name": "python",
   "nbconvert_exporter": "python",
   "pygments_lexer": "ipython3",
   "version": "3.8.10"
  }
 },
 "nbformat": 4,
 "nbformat_minor": 5
}
